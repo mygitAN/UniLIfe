{
  "nbformat": 4,
  "nbformat_minor": 0,
  "metadata": {
    "colab": {
      "provenance": []
    },
    "kernelspec": {
      "name": "python3",
      "display_name": "Python 3"
    },
    "language_info": {
      "name": "python"
    }
  },
  "cells": [
    {
      "cell_type": "code",
      "source": [
        "import numpy as np\n",
        "import pandas as pd\n",
        "from sklearn.linear_model import LogisticRegression\n",
        "from sklearn.metrics import roc_auc_score\n",
        "from sklearn.model_selection import train_test_split\n",
        "from math import log, exp\n",
        "\n",
        "np.random.seed(42)  # For reproducibility\n",
        "\n",
        "# Generate random data\n",
        "data = pd.DataFrame({\n",
        "    'Degree_Critical': np.random.choice([0, 1], 1000),\n",
        "    'Average_Grades': np.random.uniform(50, 100, 1000),\n",
        "    'Holiday_Job': np.random.choice([0, 1], 1000),\n",
        "    'Community_Work': np.random.choice([0, 1], 1000),\n",
        "    'Finished_On_Time': np.random.choice([0, 1], 1000), # New feature\n",
        "    'Default': np.random.choice([0, 1], 1000)\n",
        "})\n",
        "\n",
        "# Define the model\n",
        "model = LogisticRegression()\n",
        "\n",
        "# Split the data\n",
        "train, test = train_test_split(data, test_size=0.2, random_state=42)\n",
        "\n",
        "# Fit the model\n",
        "model.fit(train.drop('Default', axis=1), train['Default'])\n",
        "\n",
        "# Get the coefficients and intercept from the model\n",
        "coef = model.coef_[0]\n",
        "intercept = model.intercept_[0]\n",
        "\n",
        "# Calculate log odds, probabilities, and score\n",
        "test['LogOdds'] = intercept + np.dot(test.drop('Default', axis=1), coef)\n",
        "test['Score'] = test['LogOdds'].apply(lambda x: round(x * (20/log(2)) + 600 - log(1) * (20/log(2)), 1))\n",
        "test['ProbGood'] = test['LogOdds'].apply(lambda x: exp(x)/(1 + exp(x)))\n",
        "test['ProbBad'] = 1 - test['ProbGood']\n",
        "\n",
        "print(test)"
      ],
      "metadata": {
        "colab": {
          "base_uri": "https://localhost:8080/"
        },
        "id": "TPAHH4DW9-TJ",
        "outputId": "ab15209b-9066-45f0-85ad-22221dbfe44e"
      },
      "execution_count": 3,
      "outputs": [
        {
          "output_type": "stream",
          "name": "stdout",
          "text": [
            "     Degree_Critical  Average_Grades  Holiday_Job  Community_Work  \\\n",
            "521                0       64.867450            0               0   \n",
            "737                0       73.660495            0               0   \n",
            "740                0       93.431158            0               0   \n",
            "660                1       91.290838            1               0   \n",
            "411                1       63.403182            0               1   \n",
            "..               ...             ...          ...             ...   \n",
            "408                1       62.971172            1               1   \n",
            "332                1       57.042851            1               0   \n",
            "208                1       62.732033            1               1   \n",
            "613                1       76.848721            0               0   \n",
            "78                 0       74.605815            0               1   \n",
            "\n",
            "     Finished_On_Time  Default   LogOdds  Score  ProbGood   ProbBad  \n",
            "521                 1        1 -0.157858  595.4  0.460617  0.539383  \n",
            "737                 0        0  0.079171  602.3  0.519782  0.480218  \n",
            "740                 0        0  0.196508  605.7  0.548970  0.451030  \n",
            "660                 0        1  0.140338  604.0  0.535027  0.464973  \n",
            "411                 0        1  0.022853  600.7  0.505713  0.494287  \n",
            "..                ...      ...       ...    ...       ...       ...  \n",
            "408                 0        1 -0.109207  596.8  0.472725  0.527275  \n",
            "332                 1        1 -0.247764  592.9  0.438374  0.561626  \n",
            "208                 0        0 -0.110626  596.8  0.472372  0.527628  \n",
            "613                 1        1 -0.000722  600.0  0.499820  0.500180  \n",
            "78                  0        0  0.003312  600.1  0.500828  0.499172  \n",
            "\n",
            "[200 rows x 10 columns]\n"
          ]
        }
      ]
    }
  ]
}